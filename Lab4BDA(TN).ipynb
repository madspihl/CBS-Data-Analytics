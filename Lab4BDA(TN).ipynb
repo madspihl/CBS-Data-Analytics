{
 "cells": [
  {
   "cell_type": "code",
   "execution_count": 1,
   "metadata": {},
   "outputs": [],
   "source": [
    "import pandas as pd\n",
    "import warnings\n",
    "import matplotlib.pyplot as plt\n",
    "from sklearn.model_selection import train_test_split\n",
    "from sklearn.ensemble import RandomForestClassifier\n",
    "from sklearn.ensemble import RandomForestRegressor\n",
    "from sklearn.preprocessing import StandardScaler  \n",
    "from sklearn.neural_network import MLPClassifier\n",
    "from sklearn.datasets import load_breast_cancer\n",
    "from sklearn.manifold import TSNE\n",
    "from sklearn.linear_model import LinearRegression\n",
    "from sklearn.neural_network import MLPClassifier\n",
    "from sklearn.decomposition import PCA\n",
    "import mglearn"
   ]
  },
  {
   "cell_type": "markdown",
   "metadata": {},
   "source": [
    "### Question 1\n",
    "Load the telco data from Lab 3, and perform a train-test split. Now scale the data, using StandardScaler. To do this, you fit the scaler to the train data and use that to transform both the train and test data. Now build the MLP model, and print the results. How do they compare with the MLP results without scaling (from Lab 3)?"
   ]
  },
  {
   "cell_type": "code",
   "execution_count": 2,
   "metadata": {},
   "outputs": [],
   "source": [
    "df = pd.read_csv(\"telco.csv\")\n",
    "X = df.drop(['Churn'], axis=1)\n",
    "y = df['Churn']\n",
    "X_train, X_test, y_train, y_test = train_test_split(X, y, stratify = y)\n",
    "scaler = StandardScaler()\n",
    "scaler.fit(X_train)\n",
    "X_train_scaled = scaler.transform(X_train)\n",
    "X_test_scaled = scaler.transform(X_test)"
   ]
  },
  {
   "cell_type": "code",
   "execution_count": 3,
   "metadata": {},
   "outputs": [
    {
     "name": "stdout",
     "output_type": "stream",
     "text": [
      "Accuracy on training set: 0.867\n",
      "Accuracy on test set: 0.780\n",
      "Test accuracy without using scaler: 0.783 (from last session)\n"
     ]
    },
    {
     "name": "stderr",
     "output_type": "stream",
     "text": [
      "/opt/anaconda3/lib/python3.8/site-packages/sklearn/neural_network/_multilayer_perceptron.py:582: ConvergenceWarning: Stochastic Optimizer: Maximum iterations (200) reached and the optimization hasn't converged yet.\n",
      "  warnings.warn(\n"
     ]
    }
   ],
   "source": [
    "mlp = MLPClassifier(random_state=8)\n",
    "mlp.fit(X_train_scaled, y_train)\n",
    "print(\"Accuracy on training set: {:.3f}\".format(mlp.score(X_train_scaled, y_train)))\n",
    "print(\"Accuracy on test set: {:.3f}\".format(mlp.score(X_test_scaled, y_test)))\n",
    "print('Test accuracy without using scaler: 0.783 (from last session)')"
   ]
  },
  {
   "cell_type": "markdown",
   "metadata": {},
   "source": [
    "### Question 2\n",
    "Read the HomesSoldHellerup.csv file, using the pandas read_csv method (note that the separator is a semicolon and not a comma, which is the default). How many different values are there for the Type feature? What about Type of Sale?"
   ]
  },
  {
   "cell_type": "code",
   "execution_count": 4,
   "metadata": {},
   "outputs": [
    {
     "name": "stdout",
     "output_type": "stream",
     "text": [
      "Type\n",
      "Lejlighed          1237\n",
      "Villa               742\n",
      "Rækkehus            174\n",
      "Stuehus               3\n",
      "Døgninstitution       2\n",
      "Erhverv               2\n",
      "dtype: int64\n",
      "Type of Sale\n",
      "Alm. Salg    1978\n",
      "Fam. Salg     109\n",
      "Andet          52\n",
      "Auktion        21\n",
      "dtype: int64\n"
     ]
    }
   ],
   "source": [
    "df = pd.read_csv('HomesSoldHellerup.csv', sep = ';')\n",
    "print(df.value_counts('Type'))\n",
    "print(df.value_counts('Type of Sale'))"
   ]
  },
  {
   "cell_type": "markdown",
   "metadata": {},
   "source": [
    "### Question 3\n",
    "Assign to X a list of the features, m2 and Build Year. The target value y is Price. Perform a test-train split, and then create a Linear Regression model. What results do you get? "
   ]
  },
  {
   "cell_type": "code",
   "execution_count": 5,
   "metadata": {},
   "outputs": [
    {
     "name": "stdout",
     "output_type": "stream",
     "text": [
      "Accuracy on training set: 0.346\n",
      "Accuracy on test set: 0.259\n"
     ]
    }
   ],
   "source": [
    "X = df[['m2', 'Build Year']]\n",
    "y = df['Price']\n",
    "X_train, X_test, y_train, y_test = train_test_split(X, y)\n",
    "lr = LinearRegression()\n",
    "lr.fit(X_train, y_train)\n",
    "print(\"Accuracy on training set: {:.3f}\".format(lr.score(X_train, y_train)))\n",
    "print(\"Accuracy on test set: {:.3f}\".format(lr.score(X_test, y_test)))"
   ]
  },
  {
   "cell_type": "markdown",
   "metadata": {},
   "source": [
    "### Question 4\n",
    "\n",
    "Try a Random Forest regressor on this data, with 30 estimators. What are the results here?"
   ]
  },
  {
   "cell_type": "code",
   "execution_count": 6,
   "metadata": {},
   "outputs": [
    {
     "name": "stdout",
     "output_type": "stream",
     "text": [
      "Accuracy on training set: 0.930\n",
      "Accuracy on test set: 0.618\n"
     ]
    }
   ],
   "source": [
    "rfr = RandomForestRegressor(n_estimators = 30)\n",
    "rfr.fit(X_train, y_train)\n",
    "print(\"Accuracy on training set: {:.3f}\".format(rfr.score(X_train, y_train)))\n",
    "print(\"Accuracy on test set: {:.3f}\".format(rfr.score(X_test, y_test)))"
   ]
  },
  {
   "cell_type": "markdown",
   "metadata": {},
   "source": [
    "### Question 5\n",
    "Assign to X the features m2, Build Year and Type. Create dummy values for X, using the get_dummies method. How many features are there now?"
   ]
  },
  {
   "cell_type": "code",
   "execution_count": 7,
   "metadata": {},
   "outputs": [
    {
     "data": {
      "text/plain": [
       "(2160, 8)"
      ]
     },
     "execution_count": 7,
     "metadata": {},
     "output_type": "execute_result"
    }
   ],
   "source": [
    "X = df[['m2', 'Build Year', 'Type']]\n",
    "X_d = pd.get_dummies(X)\n",
    "X_d.shape"
   ]
  },
  {
   "cell_type": "markdown",
   "metadata": {},
   "source": [
    "### Question 6\n",
    "Perform test-train split again using the dummy features, and then do another Linear Regression. What results do you get? "
   ]
  },
  {
   "cell_type": "code",
   "execution_count": 8,
   "metadata": {},
   "outputs": [
    {
     "name": "stdout",
     "output_type": "stream",
     "text": [
      "Accuracy on training set: 0.319\n",
      "Accuracy on test set: 0.366\n"
     ]
    }
   ],
   "source": [
    "y_new = df['Price'] #to avoid splitting y again\n",
    "X_train, X_test, y_train, y_test = train_test_split(X_d, y_new)\n",
    "lr = LinearRegression()\n",
    "lr.fit(X_train, y_train)\n",
    "print(\"Accuracy on training set: {:.3f}\".format(lr.score(X_train, y_train)))\n",
    "print(\"Accuracy on test set: {:.3f}\".format(lr.score(X_test, y_test)))"
   ]
  },
  {
   "cell_type": "markdown",
   "metadata": {},
   "source": [
    "### Question 7\n",
    "Try Random Forest regression using the dummy features, and report those results."
   ]
  },
  {
   "cell_type": "code",
   "execution_count": 9,
   "metadata": {},
   "outputs": [
    {
     "name": "stdout",
     "output_type": "stream",
     "text": [
      "Accuracy on training set: 0.936\n",
      "Accuracy on test set: 0.639\n"
     ]
    }
   ],
   "source": [
    "rfr = RandomForestRegressor(n_estimators = 30)\n",
    "rfr.fit(X_train, y_train)\n",
    "print(\"Accuracy on training set: {:.3f}\".format(rfr.score(X_train, y_train)))\n",
    "print(\"Accuracy on test set: {:.3f}\".format(rfr.score(X_test, y_test)))"
   ]
  },
  {
   "cell_type": "markdown",
   "metadata": {},
   "source": [
    "### Question 8 (optional)\n",
    "Try adding some additional features from the original HomesSoldHellerup data, converting them to dummies if necessary. What other features have predictive value? Find the best subset of features you can, and try various settings of hyperparameters. What is the best result you can get? (You can test this with Linear Regression or Random Forest)"
   ]
  },
  {
   "cell_type": "code",
   "execution_count": null,
   "metadata": {},
   "outputs": [],
   "source": []
  },
  {
   "cell_type": "code",
   "execution_count": null,
   "metadata": {},
   "outputs": [],
   "source": []
  }
 ],
 "metadata": {
  "kernelspec": {
   "display_name": "Python 3",
   "language": "python",
   "name": "python3"
  },
  "language_info": {
   "codemirror_mode": {
    "name": "ipython",
    "version": 3
   },
   "file_extension": ".py",
   "mimetype": "text/x-python",
   "name": "python",
   "nbconvert_exporter": "python",
   "pygments_lexer": "ipython3",
   "version": "3.8.5"
  }
 },
 "nbformat": 4,
 "nbformat_minor": 4
}
