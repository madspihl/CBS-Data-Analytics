{
 "cells": [
  {
   "cell_type": "markdown",
   "metadata": {
    "id": "_WG3DUXc4kGy"
   },
   "source": [
    "# Data Collection from Reddit using the Pushshift API"
   ]
  },
  {
   "cell_type": "markdown",
   "metadata": {},
   "source": [
    "<a href=https://github.com/pushshift/api>Here</a> is a general introduction to Pushshift, which you can use to get Reddit data. "
   ]
  },
  {
   "cell_type": "markdown",
   "metadata": {},
   "source": [
    "<h1>Creating URL's as Queries</h1>"
   ]
  },
  {
   "cell_type": "markdown",
   "metadata": {},
   "source": [
    "As you can see on the Pushshift github page, you create queries in the form of URL's. This URL gives comments mentioning 'science': \n",
    "\n",
    "https://api.pushshift.io/reddit/search/comment/?q=science\n",
    "\n",
    "Notice that it specifies the query term like this: \"?q=science\"\n",
    "\n",
    "You can simply run these queries in your browser (try it!)\n",
    "\n",
    "\n",
    "\n",
    "\n"
   ]
  },
  {
   "cell_type": "markdown",
   "metadata": {},
   "source": [
    "<h2>Question 0</h2>\n",
    "\n",
    "How many comments get returned by the above query?"
   ]
  },
  {
   "cell_type": "markdown",
   "metadata": {},
   "source": [
    "<h2>Question 1</h2>\n",
    "\n",
    "Give the URL for the following query:\n",
    "\n",
    "Recent comments mentioning \"Støjberg\""
   ]
  },
  {
   "cell_type": "markdown",
   "metadata": {},
   "source": [
    "<h2>Question 2</h2>\n",
    "\n",
    "What subreddits do these comments come from?"
   ]
  },
  {
   "cell_type": "markdown",
   "metadata": {},
   "source": [
    "<h2>Question 3</h2>\n",
    "\n",
    "Give the URL for this query: \n",
    "\n",
    "recent comments mentioning \"Gamestop\"."
   ]
  },
  {
   "cell_type": "markdown",
   "metadata": {},
   "source": [
    "<h2>Question 4</h2>\n",
    "\n",
    "What subreddits do these comments come from?"
   ]
  },
  {
   "cell_type": "markdown",
   "metadata": {},
   "source": [
    "<h1>Accessing Pushshift in Python</h1>"
   ]
  },
  {
   "cell_type": "markdown",
   "metadata": {},
   "source": [
    "To access Pushshift in Python, we can use <a href=https://requests.readthedocs.io/en/master/>requests</a>. You can use the <b>get</b> method to send a URL string, instead of typing it into the browser. \n",
    "<p>\n",
    "    Pushshift returns <a href=https://www.json.org/json-en.html> JSON</a>, which in Python turns into <a href=https://www.w3schools.com/python/python_dictionaries.asp>dict</a>.\n",
    "    Below is an example."
   ]
  },
  {
   "cell_type": "code",
   "execution_count": 44,
   "metadata": {
    "id": "Ab9sRaiVi5uA"
   },
   "outputs": [],
   "source": [
    "import requests \n",
    "import json "
   ]
  },
  {
   "cell_type": "code",
   "execution_count": null,
   "metadata": {},
   "outputs": [],
   "source": []
  },
  {
   "cell_type": "code",
   "execution_count": 58,
   "metadata": {},
   "outputs": [],
   "source": [
    "url = 'https://api.pushshift.io/reddit/search/comment/?q=science'\n",
    "r = requests.get(url)\n",
    "data = json.loads(r.text)\n",
    "d = data['data']\n"
   ]
  },
  {
   "cell_type": "markdown",
   "metadata": {},
   "source": [
    "<h2>Question 5</h2>\n",
    "\n",
    "Loop Through Query Results\n",
    "<p>\n",
    "\n",
    "The variable <b>d</b> consists of a list of <b>dict</b>'s. You can examine them using the <b>keys</b> method. Print the keys for the first value of <b>d</b>."
   ]
  },
  {
   "cell_type": "code",
   "execution_count": null,
   "metadata": {},
   "outputs": [],
   "source": []
  },
  {
   "cell_type": "markdown",
   "metadata": {},
   "source": [
    "<h2>Question 6</h2>\n",
    "\n",
    "Loop Through Query Results\n",
    "<p>\n",
    "\n",
    "Use a loop to print the author and body of each element of <b>d</b>\n"
   ]
  },
  {
   "cell_type": "code",
   "execution_count": null,
   "metadata": {},
   "outputs": [],
   "source": []
  },
  {
   "cell_type": "markdown",
   "metadata": {},
   "source": [
    "<h2>Question 7</h2>\n",
    "\n",
    "Create a new query in Python, getting the most recent 100 posts mentioning \"Gamestop\".\n"
   ]
  },
  {
   "cell_type": "code",
   "execution_count": 59,
   "metadata": {},
   "outputs": [],
   "source": [
    "url = 'https://api.pushshift.io/reddit/search/comment/?q=Gamestop&size=100'\n",
    "r = requests.get(url)\n",
    "data = json.loads(r.text)\n",
    "d = data['data']"
   ]
  },
  {
   "cell_type": "markdown",
   "metadata": {},
   "source": [
    "<h2>Question 8</h2>\n",
    "\n",
    "Convert the variable <b>d</b>, a list of dicts, to a Pandas dataframe, using <a href=https://pandas.pydata.org/pandas-docs/stable/reference/api/pandas.DataFrame.from_dict.html>from_dict</a>\n",
    "\n"
   ]
  },
  {
   "cell_type": "code",
   "execution_count": 62,
   "metadata": {},
   "outputs": [],
   "source": []
  },
  {
   "cell_type": "markdown",
   "metadata": {},
   "source": [
    "<h2>Question 9</h2>\n",
    "\n",
    "How many different subreddits occur in your data? Use the <a href=https://kanoki.org/2020/03/09/how-to-use-pandas-count-and-value_counts/>value_counts</a> method to see how many times each subreddit is mentioned. (You need to apply value_counts to the subreddit column.)\n",
    "\n",
    "\n"
   ]
  },
  {
   "cell_type": "code",
   "execution_count": null,
   "metadata": {},
   "outputs": [],
   "source": []
  }
 ],
 "metadata": {
  "colab": {
   "collapsed_sections": [],
   "name": "Reddit_Data_Collection.ipynb",
   "provenance": []
  },
  "kernelspec": {
   "display_name": "Python 3",
   "language": "python",
   "name": "python3"
  },
  "language_info": {
   "codemirror_mode": {
    "name": "ipython",
    "version": 3
   },
   "file_extension": ".py",
   "mimetype": "text/x-python",
   "name": "python",
   "nbconvert_exporter": "python",
   "pygments_lexer": "ipython3",
   "version": "3.7.2"
  }
 },
 "nbformat": 4,
 "nbformat_minor": 1
}
