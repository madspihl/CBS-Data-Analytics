{
 "cells": [
  {
   "cell_type": "markdown",
   "metadata": {},
   "source": [
    "# Lab 3\n",
    "This lab is based on material from the reading for this session, Machine Learning with Python, Chapter 2, pp 70-132. You are also encouraged to refer to the code provided from the textbook Github site. For questions 8-11, you need the file, telco.csv.  For question 3 you will need graphviz, which I suggest you install with conda, if you haven't already. See installation instructions here: https://anaconda.org/anaconda/graphviz"
   ]
  },
  {
   "cell_type": "markdown",
   "metadata": {},
   "source": [
    "### Question 1\n",
    "Load the breast cancer dataset. Perform a test-train split, and build a Decision Tree Classifier model, with default parameters. Report the accuracy on training and test data."
   ]
  },
  {
   "cell_type": "markdown",
   "metadata": {},
   "source": [
    "### Question 2\n",
    "Write a loop in which you build a Decision Tree Classifier model, with values for the max_depth parameter ranging from 1 to 8. For each iteration, print the max_depth, training accuracy, and test accuracy.  Which model produces the highest accuracy on the test set?"
   ]
  },
  {
   "cell_type": "markdown",
   "metadata": {},
   "source": [
    "### Question 3\n",
    "Use graphviz to visualize the above decision trees of max_depth 2 and 3."
   ]
  },
  {
   "cell_type": "markdown",
   "metadata": {},
   "source": [
    "### Question 4\n",
    "Produce a Random Forest Classifier for the Cancer data, with default parameters, and report training and test accuracy."
   ]
  },
  {
   "cell_type": "markdown",
   "metadata": {},
   "source": [
    "### Question 5\n",
    "Produce a Random Forest Classifier for the Cancer data with some different values for max_features. What is the best result on the test data?"
   ]
  },
  {
   "cell_type": "markdown",
   "metadata": {},
   "source": [
    "### Question 6\n",
    "Produce an MLP Classifier for the Cancer data, with default parameters, and report training and test accuracy."
   ]
  },
  {
   "cell_type": "markdown",
   "metadata": {},
   "source": [
    "### Question 7\n",
    "Read the telco file and assign all the columns to X, except the column 'Churn', which  you assign to y. Then perform a test train split, setting the parameter: stratify=y."
   ]
  },
  {
   "cell_type": "code",
   "execution_count": 1,
   "metadata": {},
   "outputs": [],
   "source": [
    "import pandas as pd\n",
    "df = pd.read_csv(\"telco.csv\")\n",
    "X = df.drop(['Churn'], axis=1)\n",
    "y = df['Churn']"
   ]
  },
  {
   "cell_type": "markdown",
   "metadata": {},
   "source": [
    "### Question 8\n",
    "Produce a Decision Tree Classifier for the telco data. Report training and test results on the default parameters. Try other settings for max_depth as well as any other parameters you think might be relevant. What are the best results you can get?"
   ]
  },
  {
   "cell_type": "markdown",
   "metadata": {},
   "source": [
    "### Question 9\n",
    "Produce a Random Forest Classifier for the telco data. Report training and test results on the default parameters. Try other settings for max_depth as well as any other parameters you think might be relevant. What are the best results you can get?"
   ]
  },
  {
   "cell_type": "markdown",
   "metadata": {},
   "source": [
    "### Question 10\n",
    "Produce an MLP Classifier for the telco data. Report training and test results on the default parameters. (Optional: Try other settings for alpha as well as any other parameters you think might be relevant. What are the best results you can get?)"
   ]
  },
  {
   "cell_type": "code",
   "execution_count": null,
   "metadata": {},
   "outputs": [],
   "source": []
  },
  {
   "cell_type": "code",
   "execution_count": null,
   "metadata": {},
   "outputs": [],
   "source": []
  }
 ],
 "metadata": {
  "kernelspec": {
   "display_name": "Python 3",
   "language": "python",
   "name": "python3"
  },
  "language_info": {
   "codemirror_mode": {
    "name": "ipython",
    "version": 3
   },
   "file_extension": ".py",
   "mimetype": "text/x-python",
   "name": "python",
   "nbconvert_exporter": "python",
   "pygments_lexer": "ipython3",
   "version": "3.8.3"
  }
 },
 "nbformat": 4,
 "nbformat_minor": 2
}
