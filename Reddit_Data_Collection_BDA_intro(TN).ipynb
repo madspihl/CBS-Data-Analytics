{
 "cells": [
  {
   "cell_type": "markdown",
   "metadata": {
    "id": "_WG3DUXc4kGy"
   },
   "source": [
    "# Data Collection from Reddit using the Pushshift API"
   ]
  },
  {
   "cell_type": "markdown",
   "metadata": {},
   "source": [
    "<a href=https://github.com/pushshift/api>Here</a> is a general introduction to Pushshift, which you can use to get Reddit data. "
   ]
  },
  {
   "cell_type": "markdown",
   "metadata": {},
   "source": [
    "<h1>Creating URL's as Queries</h1>"
   ]
  },
  {
   "cell_type": "markdown",
   "metadata": {},
   "source": [
    "As you can see on the Pushshift github page, you create queries in the form of URL's. This URL gives comments mentioning 'science': \n",
    "\n",
    "https://api.pushshift.io/reddit/search/comment/?q=science\n",
    "\n",
    "Notice that it specifies the query term like this: \"?q=science\"\n",
    "\n",
    "You can simply run these queries in your browser (try it!)\n",
    "\n",
    "\n",
    "\n",
    "\n"
   ]
  },
  {
   "cell_type": "markdown",
   "metadata": {},
   "source": [
    "<h2>Question 0</h2>\n",
    "\n",
    "How many comments get returned by the above query?\n"
   ]
  },
  {
   "cell_type": "markdown",
   "metadata": {},
   "source": [
    "25"
   ]
  },
  {
   "cell_type": "markdown",
   "metadata": {},
   "source": [
    "<h2>Question 1</h2>\n",
    "\n",
    "Give the URL for the following query:\n",
    "\n",
    "\n",
    "Recent comments mentioning \"Støjberg\""
   ]
  },
  {
   "cell_type": "markdown",
   "metadata": {},
   "source": [
    "https://api.pushshift.io/reddit/search/comment/?q=St%C3%B8jberg"
   ]
  },
  {
   "cell_type": "markdown",
   "metadata": {},
   "source": [
    "<h2>Question 2</h2>\n",
    "\n",
    "What subreddits do these comments come from?"
   ]
  },
  {
   "cell_type": "markdown",
   "metadata": {},
   "source": [
    "\"newsdk\", \"denmark\", \"politics\", and \"scandinavia\""
   ]
  },
  {
   "cell_type": "markdown",
   "metadata": {},
   "source": [
    "<h2>Question 3</h2>\n",
    "\n",
    "Give the URL for this query: \n",
    "\n",
    "recent comments mentioning \"Gamestop\"."
   ]
  },
  {
   "cell_type": "markdown",
   "metadata": {},
   "source": [
    "https://api.pushshift.io/reddit/search/comment/?q=Gamestop"
   ]
  },
  {
   "cell_type": "markdown",
   "metadata": {},
   "source": [
    "<h2>Question 4</h2>\n",
    "\n",
    "What subreddits do these comments come from?"
   ]
  },
  {
   "cell_type": "markdown",
   "metadata": {},
   "source": [
    "\"GME\", \"SNDL\", \"deadcells\", \"wallstreetbets\", \"PokemonSwordAndShield\", \"Destiny\", \"SPACs\", \"NintendoSwitch\"\n",
    ", \"WallStreetWin\", \"WallStreetbetsELITE\", \"PokemonTCG\", \"RedditSessions\", and \"wallstreetbetsOGs\""
   ]
  },
  {
   "cell_type": "markdown",
   "metadata": {},
   "source": [
    "<h1>Accessing Pushshift in Python</h1>"
   ]
  },
  {
   "cell_type": "markdown",
   "metadata": {},
   "source": [
    "To access Pushshift in Python, we can use <a href=https://requests.readthedocs.io/en/master/>requests</a>. You can use the <b>get</b> method to send a URL string, instead of typing it into the browser. \n",
    "<p>\n",
    "    Pushshift returns <a href=https://www.json.org/json-en.html> JSON</a>, which in Python turns into <a href=https://www.w3schools.com/python/python_dictionaries.asp>dict</a>.\n",
    "    Below is an example."
   ]
  },
  {
   "cell_type": "code",
   "execution_count": 2,
   "metadata": {
    "id": "Ab9sRaiVi5uA"
   },
   "outputs": [],
   "source": [
    "import requests \n",
    "import json "
   ]
  },
  {
   "cell_type": "code",
   "execution_count": null,
   "metadata": {},
   "outputs": [],
   "source": []
  },
  {
   "cell_type": "code",
   "execution_count": 7,
   "metadata": {},
   "outputs": [],
   "source": [
    "url = 'https://api.pushshift.io/reddit/search/comment/?q=science'\n",
    "r = requests.get(url)\n",
    "data = json.loads(r.text)\n",
    "d = data['data']\n"
   ]
  },
  {
   "cell_type": "markdown",
   "metadata": {},
   "source": [
    "<h2>Question 5</h2>\n",
    "\n",
    "Loop Through Query Results\n",
    "<p>\n",
    "\n",
    "The variable <b>d</b> consists of a list of <b>dict</b>'s. You can examine them using the <b>keys</b> method. Print the keys for the first value of <b>d</b>."
   ]
  },
  {
   "cell_type": "code",
   "execution_count": 9,
   "metadata": {},
   "outputs": [
    {
     "data": {
      "text/plain": [
       "dict_keys(['all_awardings', 'associated_award', 'author', 'author_flair_background_color', 'author_flair_css_class', 'author_flair_richtext', 'author_flair_template_id', 'author_flair_text', 'author_flair_text_color', 'author_flair_type', 'author_fullname', 'author_patreon_flair', 'author_premium', 'awarders', 'body', 'collapsed_because_crowd_control', 'comment_type', 'created_utc', 'gildings', 'id', 'is_submitter', 'link_id', 'locked', 'no_follow', 'parent_id', 'permalink', 'retrieved_on', 'score', 'send_replies', 'stickied', 'subreddit', 'subreddit_id', 'top_awarded_type', 'total_awards_received', 'treatment_tags'])"
      ]
     },
     "execution_count": 9,
     "metadata": {},
     "output_type": "execute_result"
    }
   ],
   "source": [
    "d[0].keys()"
   ]
  },
  {
   "cell_type": "markdown",
   "metadata": {},
   "source": [
    "<h2>Question 6</h2>\n",
    "\n",
    "Loop Through Query Results\n",
    "<p>\n",
    "\n",
    "Use a loop to print the author and body of each element of <b>d</b>\n"
   ]
  },
  {
   "cell_type": "code",
   "execution_count": 14,
   "metadata": {},
   "outputs": [
    {
     "ename": "AttributeError",
     "evalue": "'dict' object has no attribute 'body'",
     "output_type": "error",
     "traceback": [
      "\u001b[0;31m---------------------------------------------------------------------------\u001b[0m",
      "\u001b[0;31mAttributeError\u001b[0m                            Traceback (most recent call last)",
      "\u001b[0;32m<ipython-input-14-9c3d07b8b8e9>\u001b[0m in \u001b[0;36m<module>\u001b[0;34m\u001b[0m\n\u001b[0;32m----> 1\u001b[0;31m \u001b[0md\u001b[0m\u001b[0;34m[\u001b[0m\u001b[0;36m0\u001b[0m\u001b[0;34m]\u001b[0m\u001b[0;34m.\u001b[0m\u001b[0mbody\u001b[0m\u001b[0;34m\u001b[0m\u001b[0;34m\u001b[0m\u001b[0m\n\u001b[0m",
      "\u001b[0;31mAttributeError\u001b[0m: 'dict' object has no attribute 'body'"
     ]
    }
   ],
   "source": [
    "#I don't know how\n",
    "d[0].body"
   ]
  },
  {
   "cell_type": "markdown",
   "metadata": {},
   "source": [
    "<h2>Question 7</h2>\n",
    "\n",
    "Create a new query in Python, getting the most recent 100 posts mentioning \"Gamestop\".\n"
   ]
  },
  {
   "cell_type": "code",
   "execution_count": 15,
   "metadata": {},
   "outputs": [],
   "source": [
    "url = 'https://api.pushshift.io/reddit/search/comment/?q=Gamestop&size=100'\n",
    "r = requests.get(url)\n",
    "data = json.loads(r.text)\n",
    "d = data['data']"
   ]
  },
  {
   "cell_type": "markdown",
   "metadata": {},
   "source": [
    "<h2>Question 8</h2>\n",
    "\n",
    "Convert the variable <b>d</b>, a list of dicts, to a Pandas dataframe, using <a href=https://pandas.pydata.org/pandas-docs/stable/reference/api/pandas.DataFrame.from_dict.html>from_dict</a>\n",
    "\n"
   ]
  },
  {
   "cell_type": "code",
   "execution_count": 17,
   "metadata": {},
   "outputs": [],
   "source": [
    "import pandas as pd\n",
    "df = pd.DataFrame.from_dict(d)"
   ]
  },
  {
   "cell_type": "markdown",
   "metadata": {},
   "source": [
    "<h2>Question 9</h2>\n",
    "\n",
    "How many different subreddits occur in your data? Use the <a href=https://kanoki.org/2020/03/09/how-to-use-pandas-count-and-value_counts/>value_counts</a> method to see how many times each subreddit is mentioned. (You need to apply value_counts to the subreddit column.)\n",
    "\n",
    "\n"
   ]
  },
  {
   "cell_type": "code",
   "execution_count": 21,
   "metadata": {},
   "outputs": [
    {
     "data": {
      "text/plain": [
       "wallstreetbets          17\n",
       "GME                     14\n",
       "WallStreetWin           12\n",
       "Wallstreetbetsnew        9\n",
       "PokemonTCG               4\n",
       "investing                3\n",
       "PKMNTCGDeals             2\n",
       "mauerstrassenwetten      2\n",
       "amcstock                 2\n",
       "NintendoSwitch           2\n",
       "lotrmemes                1\n",
       "WANDAVISION              1\n",
       "NEO                      1\n",
       "nfl                      1\n",
       "argentina                1\n",
       "PoliticalHumor           1\n",
       "wallstreetbets2          1\n",
       "Persona5                 1\n",
       "soccer                   1\n",
       "conspiracy               1\n",
       "gaming                   1\n",
       "PS5                      1\n",
       "sadcringe                1\n",
       "PS4                      1\n",
       "todayilearned            1\n",
       "gme_meltdown             1\n",
       "ethfinance               1\n",
       "smallstreetbets          1\n",
       "CryptoCurrency           1\n",
       "AdamCurtis               1\n",
       "eos                      1\n",
       "Bullion                  1\n",
       "PewdiepieSubmissions     1\n",
       "PokemonHome              1\n",
       "funny                    1\n",
       "dogecoin                 1\n",
       "jovemnerd                1\n",
       "Zomedica                 1\n",
       "AskReddit                1\n",
       "btc                      1\n",
       "Wallstreetsilver         1\n",
       "nakd                     1\n",
       "GameStop                 1\n",
       "Name: subreddit, dtype: int64"
      ]
     },
     "execution_count": 21,
     "metadata": {},
     "output_type": "execute_result"
    }
   ],
   "source": [
    "df['subreddit'].value_counts()"
   ]
  },
  {
   "cell_type": "code",
   "execution_count": null,
   "metadata": {},
   "outputs": [],
   "source": []
  }
 ],
 "metadata": {
  "colab": {
   "collapsed_sections": [],
   "name": "Reddit_Data_Collection.ipynb",
   "provenance": []
  },
  "kernelspec": {
   "display_name": "Python 3",
   "language": "python",
   "name": "python3"
  },
  "language_info": {
   "codemirror_mode": {
    "name": "ipython",
    "version": 3
   },
   "file_extension": ".py",
   "mimetype": "text/x-python",
   "name": "python",
   "nbconvert_exporter": "python",
   "pygments_lexer": "ipython3",
   "version": "3.8.5"
  }
 },
 "nbformat": 4,
 "nbformat_minor": 1
}
