{
  "nbformat": 4,
  "nbformat_minor": 0,
  "metadata": {
    "kernelspec": {
      "display_name": "Python 3",
      "language": "python",
      "name": "python3"
    },
    "language_info": {
      "codemirror_mode": {
        "name": "ipython",
        "version": 3
      },
      "file_extension": ".py",
      "mimetype": "text/x-python",
      "name": "python",
      "nbconvert_exporter": "python",
      "pygments_lexer": "ipython3",
      "version": "3.8.5"
    },
    "latex_metadata": {
      "author": "Andreas C. M\\\"ller",
      "title": "Machine Learning with Python"
    },
    "colab": {
      "name": "lab1AIandR_Answers.ipynb",
      "provenance": []
    }
  },
  "cells": [
    {
      "cell_type": "code",
      "metadata": {
        "hide_input": false,
        "id": "EFs5KILDSEDt"
      },
      "source": [
        "import numpy as np\n",
        "from sklearn.model_selection import train_test_split\n",
        "from sklearn.neighbors import KNeighborsClassifier\n",
        "from sklearn.linear_model import LogisticRegression\n",
        "from sklearn.svm import LinearSVC\n",
        "from sklearn.linear_model import Lasso\n",
        "import warnings\n",
        "from operator import itemgetter\n",
        "import pandas as pd"
      ],
      "execution_count": null,
      "outputs": []
    },
    {
      "cell_type": "markdown",
      "metadata": {
        "id": "XKMJu4YrSED2"
      },
      "source": [
        "# Supervised Learning\n",
        "## Classification "
      ]
    },
    {
      "cell_type": "markdown",
      "metadata": {
        "id": "4AMPDHzvSED3"
      },
      "source": [
        "### Cancer Dataset"
      ]
    },
    {
      "cell_type": "code",
      "metadata": {
        "id": "7IcS9lrVSED3",
        "colab": {
          "base_uri": "https://localhost:8080/"
        },
        "outputId": "db91a52e-ffa7-44b1-af43-4c4d21b8d1f8"
      },
      "source": [
        "from sklearn.datasets import load_breast_cancer\n",
        "cancer = load_breast_cancer()\n",
        "print(\"cancer.keys():\\n\", cancer.keys())\n",
        "\n"
      ],
      "execution_count": null,
      "outputs": [
        {
          "output_type": "stream",
          "text": [
            "cancer.keys():\n",
            " dict_keys(['data', 'target', 'target_names', 'DESCR', 'feature_names', 'filename'])\n"
          ],
          "name": "stdout"
        }
      ]
    },
    {
      "cell_type": "code",
      "metadata": {
        "id": "p8tSLtznSED4",
        "colab": {
          "base_uri": "https://localhost:8080/"
        },
        "outputId": "27f15730-2b84-418f-fb9d-b915e7eb35c1"
      },
      "source": [
        "print(\"Shape of cancer data:\", cancer.data.shape)"
      ],
      "execution_count": null,
      "outputs": [
        {
          "output_type": "stream",
          "text": [
            "Shape of cancer data: (569, 30)\n"
          ],
          "name": "stdout"
        }
      ]
    },
    {
      "cell_type": "markdown",
      "metadata": {
        "id": "1yRja_VKSED5"
      },
      "source": [
        "### Question 1\n",
        "Print the counts for the different values of cancer.target"
      ]
    },
    {
      "cell_type": "code",
      "metadata": {
        "id": "F8w2jKJ1SED5",
        "colab": {
          "base_uri": "https://localhost:8080/"
        },
        "outputId": "8d96ddb8-3cad-4b95-cd8b-fa6e31cec09f"
      },
      "source": [
        "print(\"Sample counts per class:\\n\",\n",
        "      {n: v for n, v in zip(cancer.target_names, np.bincount(cancer.target))})"
      ],
      "execution_count": null,
      "outputs": [
        {
          "output_type": "stream",
          "text": [
            "Sample counts per class:\n",
            " {'malignant': 212, 'benign': 357}\n"
          ],
          "name": "stdout"
        }
      ]
    },
    {
      "cell_type": "code",
      "metadata": {
        "id": "Kmvvp2PxSED6",
        "colab": {
          "base_uri": "https://localhost:8080/"
        },
        "outputId": "866eba9b-6842-4360-b54e-350a7c98291e"
      },
      "source": [
        "print(\"Feature names:\\n\", cancer.feature_names)"
      ],
      "execution_count": null,
      "outputs": [
        {
          "output_type": "stream",
          "text": [
            "Feature names:\n",
            " ['mean radius' 'mean texture' 'mean perimeter' 'mean area'\n",
            " 'mean smoothness' 'mean compactness' 'mean concavity'\n",
            " 'mean concave points' 'mean symmetry' 'mean fractal dimension'\n",
            " 'radius error' 'texture error' 'perimeter error' 'area error'\n",
            " 'smoothness error' 'compactness error' 'concavity error'\n",
            " 'concave points error' 'symmetry error' 'fractal dimension error'\n",
            " 'worst radius' 'worst texture' 'worst perimeter' 'worst area'\n",
            " 'worst smoothness' 'worst compactness' 'worst concavity'\n",
            " 'worst concave points' 'worst symmetry' 'worst fractal dimension']\n"
          ],
          "name": "stdout"
        }
      ]
    },
    {
      "cell_type": "markdown",
      "metadata": {
        "id": "14V-v2A5SED6"
      },
      "source": [
        "Different approach: Convert the Cancer dataset into a pandas dataframe"
      ]
    },
    {
      "cell_type": "code",
      "metadata": {
        "id": "nE2utB7jSED6"
      },
      "source": [
        "df = pd.DataFrame(np.c_[cancer['data'], cancer['target']],\n",
        "                  columns= np.append(cancer['feature_names'], ['target']))"
      ],
      "execution_count": null,
      "outputs": []
    },
    {
      "cell_type": "code",
      "metadata": {
        "id": "kQCqqkwHSED7",
        "colab": {
          "base_uri": "https://localhost:8080/"
        },
        "outputId": "6f10fcfa-d247-4ec3-efa0-c065b93e0515"
      },
      "source": [
        "df['target'].value_counts()"
      ],
      "execution_count": null,
      "outputs": [
        {
          "output_type": "execute_result",
          "data": {
            "text/plain": [
              "1.0    357\n",
              "0.0    212\n",
              "Name: target, dtype: int64"
            ]
          },
          "metadata": {
            "tags": []
          },
          "execution_count": 7
        }
      ]
    },
    {
      "cell_type": "markdown",
      "metadata": {
        "id": "sCmUbVOISED7"
      },
      "source": [
        "### Question 2\n",
        "Create a test train split using cancer.data and cancer.target\n"
      ]
    },
    {
      "cell_type": "code",
      "metadata": {
        "id": "wgE-bIL2SED7"
      },
      "source": [
        "X_train, X_test, y_train, y_test = train_test_split(\n",
        "    cancer.data, cancer.target, stratify=cancer.target, random_state=66)\n"
      ],
      "execution_count": null,
      "outputs": []
    },
    {
      "cell_type": "markdown",
      "metadata": {
        "id": "oR-XMG5xSED7"
      },
      "source": [
        "### Question 3\n",
        "Create a KNeighborsClassifier for the above train and test data, with weights set to \"distance\", and 5 neighbors. Print the training and test accuracy. "
      ]
    },
    {
      "cell_type": "code",
      "metadata": {
        "id": "CsP5y6ZtSED8",
        "colab": {
          "base_uri": "https://localhost:8080/"
        },
        "outputId": "b9c22a8b-3a11-48d3-bce8-55eea636c5fb"
      },
      "source": [
        "knn = KNeighborsClassifier(n_neighbors=5,weights='distance')\n",
        "\n",
        "knn.fit(X_train, y_train)\n",
        "\n",
        "print('Decision KNeighborsClassifier, Cancer dataset, weights set to \"distance\", and 5 neighbors')\n",
        "print('Accuracy on the training set: {:.3f}'.format(knn.score(X_train, y_train)))\n",
        "print('Accuracy on test set: {:.3f}'.format(knn.score(X_test, y_test)))  "
      ],
      "execution_count": null,
      "outputs": [
        {
          "output_type": "stream",
          "text": [
            "Decision KNeighborsClassifier, Cancer dataset, weights set to \"distance\", and 5 neighbors\n",
            "Accuracy on the training set: 1.000\n",
            "Accuracy on test set: 0.930\n"
          ],
          "name": "stdout"
        }
      ]
    },
    {
      "cell_type": "markdown",
      "metadata": {
        "id": "m9hERtHdSED8"
      },
      "source": [
        "### Question 4\n",
        "Create a loop that builds kNN classifiers with either distance or uniform weighting, with numbers of neighbors varying between 1 and 20. What is the best combination? Produce a list consisting of test accuracy, training accuracy, number of neighbors and weighting choice. The list should be sorted by test accuracy."
      ]
    },
    {
      "cell_type": "code",
      "metadata": {
        "id": "HiDvQ1AHObxA"
      },
      "source": [
        "#using lists\r\n",
        "res = []\r\n",
        "wei=['uniform', 'distance']\r\n",
        "for w in wei:\r\n",
        "  for n in range (1,21):\r\n",
        "      kn = KNeighborsClassifier(n_neighbors=n, weights=w)\r\n",
        "      kn.fit(X_train,y_train)\r\n",
        "      trainRes = kn.score(X_train,y_train)\r\n",
        "      testRes = kn.score(X_test,y_test)\r\n",
        "      res.append((testRes,trainRes,w,n))\r\n",
        "    \r\n",
        "\r\n",
        "for r in sorted(res,key=lambda e:e[0], reverse=True):   \r\n",
        "    print(\"{} neighbors  Train: {}  Test: {}  Weight: {}  \".format(r[3],r[1],r[0],r[2]))"
      ],
      "execution_count": null,
      "outputs": []
    },
    {
      "cell_type": "code",
      "metadata": {
        "id": "xd-Wawp4SED8",
        "colab": {
          "base_uri": "https://localhost:8080/"
        },
        "outputId": "1758c3ef-9304-4aaf-8a92-edf64a248d57"
      },
      "source": [
        "#using dictionaries \n",
        "training_accuracy = dict()\n",
        "\n",
        "test_accuracy = dict()\n",
        "\n",
        "# try n_neighbors from 1 to 10\n",
        "neighbors_settings = range(1, 21)\n",
        "\n",
        "for n_neighbors in neighbors_settings:\n",
        "    # record the number of neighbors\n",
        "    for w in ['distance', 'uniform']:\n",
        "        # build and fit the model\n",
        "        key = str(n_neighbors) + \" \" + w\n",
        "        clf = KNeighborsClassifier(n_neighbors=n_neighbors, weights=w).fit(X_train, y_train)\n",
        "    \n",
        "        # record training set accuracy\n",
        "        value = clf.score(X_train, y_train)\n",
        "        training_accuracy[key] = value\n",
        "    \n",
        "        # record test set accuracy\n",
        "        value = clf.score(X_test, y_test)\n",
        "        test_accuracy[key] = value\n",
        "print(\"test   train     k  weighting\")\n",
        "for key in sorted(test_accuracy, key=test_accuracy.get, reverse=True):\n",
        "    print(\"{:.4f}, {:.4f}, {}\"\n",
        "          .format(test_accuracy[key], training_accuracy[key], key ))"
      ],
      "execution_count": null,
      "outputs": [
        {
          "output_type": "stream",
          "text": [
            "test   train     k  weighting\n",
            "0.9371, 0.9460, 6 uniform\n",
            "0.9301, 1.0000, 5 distance\n",
            "0.9301, 1.0000, 6 distance\n",
            "0.9301, 1.0000, 7 distance\n",
            "0.9301, 0.9437, 7 uniform\n",
            "0.9301, 0.9413, 8 uniform\n",
            "0.9231, 1.0000, 3 distance\n",
            "0.9231, 0.9577, 3 uniform\n",
            "0.9231, 0.9554, 4 uniform\n",
            "0.9231, 0.9484, 5 uniform\n",
            "0.9231, 1.0000, 8 distance\n",
            "0.9231, 1.0000, 9 distance\n",
            "0.9231, 1.0000, 13 distance\n",
            "0.9231, 0.9366, 15 uniform\n",
            "0.9231, 1.0000, 16 distance\n",
            "0.9231, 0.9390, 16 uniform\n",
            "0.9231, 1.0000, 17 distance\n",
            "0.9231, 0.9413, 17 uniform\n",
            "0.9231, 1.0000, 18 distance\n",
            "0.9231, 0.9413, 18 uniform\n",
            "0.9231, 1.0000, 19 distance\n",
            "0.9231, 0.9390, 19 uniform\n",
            "0.9231, 1.0000, 20 distance\n",
            "0.9231, 0.9390, 20 uniform\n",
            "0.9161, 1.0000, 4 distance\n",
            "0.9161, 0.9343, 9 uniform\n",
            "0.9161, 1.0000, 10 distance\n",
            "0.9161, 0.9390, 10 uniform\n",
            "0.9161, 1.0000, 11 distance\n",
            "0.9161, 0.9343, 11 uniform\n",
            "0.9161, 1.0000, 12 distance\n",
            "0.9161, 0.9343, 12 uniform\n",
            "0.9161, 0.9413, 13 uniform\n",
            "0.9161, 1.0000, 14 distance\n",
            "0.9161, 0.9413, 14 uniform\n",
            "0.9161, 1.0000, 15 distance\n",
            "0.9021, 1.0000, 1 distance\n",
            "0.9021, 1.0000, 1 uniform\n",
            "0.9021, 1.0000, 2 distance\n",
            "0.8881, 0.9765, 2 uniform\n"
          ],
          "name": "stdout"
        }
      ]
    },
    {
      "cell_type": "markdown",
      "metadata": {
        "id": "etW6H4TOSED9"
      },
      "source": [
        "## Linear models for classification"
      ]
    },
    {
      "cell_type": "markdown",
      "metadata": {
        "id": "rBZ0iueUSED9"
      },
      "source": [
        "### Question 5\n",
        "Produce a LogisticRegression classifier with default settings for the cancer dataset. Print the training and test accuracy."
      ]
    },
    {
      "cell_type": "code",
      "metadata": {
        "id": "qfwsCxEKSED9",
        "colab": {
          "base_uri": "https://localhost:8080/"
        },
        "outputId": "82b7276d-2cb4-4574-ea3b-57fe45d9e819"
      },
      "source": [
        "warnings.filterwarnings('ignore')\n",
        "# Create the Logistic Regression object\n",
        "logireg = LogisticRegression()\n",
        "\n",
        "# Train the model using the training sets\n",
        "logireg.fit(X_train, y_train)\n",
        "\n",
        "print('Breast cancer dataset')\n",
        "print('Accuracy of Logistic regression classifier on training set: {:.2f}'\n",
        "     .format(logireg.score(X_train, y_train)))\n",
        "print('Accuracy of Logistic regression classifier on test set: {:.2f}'\n",
        "     .format(logireg.score(X_test, y_test)))"
      ],
      "execution_count": null,
      "outputs": [
        {
          "output_type": "stream",
          "text": [
            "Breast cancer dataset\n",
            "Accuracy of Logistic regression classifier on training set: 0.96\n",
            "Accuracy of Logistic regression classifier on test set: 0.94\n"
          ],
          "name": "stdout"
        }
      ]
    },
    {
      "cell_type": "markdown",
      "metadata": {
        "id": "2TXQkeG1SED9"
      },
      "source": [
        "### Question 6\n",
        "Print the three features with the highest coefficients, and the three features with the lowest coefficients. On each line, print the feature name, followed by its coefficient value.\n"
      ]
    },
    {
      "cell_type": "code",
      "metadata": {
        "scrolled": true,
        "id": "69W6sXIPSED-",
        "colab": {
          "base_uri": "https://localhost:8080/"
        },
        "outputId": "d25e1ab1-27f1-47e2-f506-90a4cada7e6a"
      },
      "source": [
        "coefs=logireg.coef_[0]\n",
        "\n",
        "sorted_coefs = sorted ((zip(cancer.feature_names, coefs)),\n",
        "                key = lambda e:e[1], reverse=True)\n",
        "print(\"Three features with the lowest coefficients: \" + str(sorted_coefs[-3:]))\n",
        "print(\"\\nThree features with the highest coefficients: \"+ str(sorted_coefs[:3]))"
      ],
      "execution_count": null,
      "outputs": [
        {
          "output_type": "stream",
          "text": [
            "Three features with the lowest coefficients: [('worst texture', -0.47653394004370375), ('worst compactness', -0.9714036132324955), ('worst concavity', -1.1744126447444956)]\n",
            "\n",
            "Three features with the highest coefficients: [('worst radius', 1.7574383180186872), ('mean radius', 1.6486457546589277), ('texture error', 0.5986920401108508)]\n"
          ],
          "name": "stdout"
        }
      ]
    },
    {
      "cell_type": "markdown",
      "metadata": {
        "id": "utu2r07SSED-"
      },
      "source": [
        "### Question 7\n",
        "Try different values of C for both Logistic Regression and LinearSVC. Give results sorted by test accuracy. Each line of the output should include test accuracy, training accuracy, model (Logistic Regression or LinearSVC), and C value. At which values is there underfitting? At which values is there overfitting? Explain. "
      ]
    },
    {
      "cell_type": "code",
      "metadata": {
        "id": "qXSRrkrtSED-",
        "colab": {
          "base_uri": "https://localhost:8080/"
        },
        "outputId": "1dbb7f51-c9fa-4388-b670-f6924bf02c39"
      },
      "source": [
        "print(\"Accuracy of classifier on different values of C for both Logistic Regression and LinearSVC:\\n\")\n",
        "\n",
        "for c_value in [0.1, 1, 0.01]:\n",
        "    clf = LogisticRegression(C=c_value).fit(X_train, y_train)\n",
        "    \n",
        "    print(\"Logistic regression classifier accuracy test set: {:.2f}, Training Set: {:.2f}, C = {:.3f}\"\n",
        "          .format(clf.score(X_test, y_test), clf.score(X_train, y_train), c_value))\n",
        "    \n",
        "    clf = LinearSVC(C=c_value).fit(X_train, y_train)\n",
        "    \n",
        "    print(\"Linear SVC classifier accuracy test set: {:.2f}, Training Set: {:.2f}, C = {:.3f}\\n\"\n",
        "          .format(clf.score(X_test, y_test), clf.score(X_train, y_train), c_value))"
      ],
      "execution_count": null,
      "outputs": [
        {
          "output_type": "stream",
          "text": [
            "Accuracy of classifier on different values of C for both Logistic Regression and LinearSVC:\n",
            "\n",
            "Logistic regression classifier accuracy test set: 0.92, Training Set: 0.96, C = 0.100\n",
            "Linear SVC classifier accuracy test set: 0.92, Training Set: 0.93, C = 0.100\n",
            "\n",
            "Logistic regression classifier accuracy test set: 0.94, Training Set: 0.96, C = 1.000\n",
            "Linear SVC classifier accuracy test set: 0.93, Training Set: 0.93, C = 1.000\n",
            "\n",
            "Logistic regression classifier accuracy test set: 0.92, Training Set: 0.94, C = 0.010\n",
            "Linear SVC classifier accuracy test set: 0.90, Training Set: 0.88, C = 0.010\n",
            "\n"
          ],
          "name": "stdout"
        }
      ]
    },
    {
      "cell_type": "markdown",
      "metadata": {
        "id": "ZEB2FOo8SED-"
      },
      "source": [
        "Using a nested for-loop to iterate over the different models and values for C"
      ]
    },
    {
      "cell_type": "code",
      "metadata": {
        "id": "6dzl3ZtcSED_"
      },
      "source": [
        "scores = []\n",
        "for model in ['log', 'SVC']:\n",
        "    for c in [0.01, 0.1, 1, 10,100]:\n",
        "        if model=='log':\n",
        "            clf = LogisticRegression(C=c).fit(X_train, y_train)\n",
        "        if model=='SVC':\n",
        "            clf = LinearSVC(C=c).fit(X_train, y_train)\n",
        "        \n",
        "        train_score = clf.score(X_train, y_train)\n",
        "        test_score = clf.score(X_test, y_test)\n",
        "        scores.append([model, c, train_score, test_score])"
      ],
      "execution_count": null,
      "outputs": []
    },
    {
      "cell_type": "code",
      "metadata": {
        "id": "_dunF95SSED_",
        "colab": {
          "base_uri": "https://localhost:8080/"
        },
        "outputId": "df18d680-aee2-4b27-bd21-ae715c4e1931"
      },
      "source": [
        "scores = sorted(scores, key=(lambda x: x[3]), reverse=True)\n",
        "for score in scores:\n",
        "    print(f\"Model: {score[0]}, C-value: {score[1]} Train accuracy: {score[2]}, Test accuracy: {score[3]}\")"
      ],
      "execution_count": null,
      "outputs": [
        {
          "output_type": "stream",
          "text": [
            "Model: log, C-value: 1 Train accuracy: 0.960093896713615, Test accuracy: 0.9440559440559441\n",
            "Model: log, C-value: 10 Train accuracy: 0.9671361502347418, Test accuracy: 0.9370629370629371\n",
            "Model: log, C-value: 100 Train accuracy: 0.9671361502347418, Test accuracy: 0.9370629370629371\n",
            "Model: SVC, C-value: 0.1 Train accuracy: 0.931924882629108, Test accuracy: 0.9370629370629371\n",
            "Model: log, C-value: 0.1 Train accuracy: 0.9553990610328639, Test accuracy: 0.9230769230769231\n",
            "Model: log, C-value: 0.01 Train accuracy: 0.9389671361502347, Test accuracy: 0.916083916083916\n",
            "Model: SVC, C-value: 100 Train accuracy: 0.9366197183098591, Test accuracy: 0.916083916083916\n",
            "Model: SVC, C-value: 0.01 Train accuracy: 0.8708920187793427, Test accuracy: 0.8951048951048951\n",
            "Model: SVC, C-value: 1 Train accuracy: 0.863849765258216, Test accuracy: 0.8601398601398601\n",
            "Model: SVC, C-value: 10 Train accuracy: 0.8427230046948356, Test accuracy: 0.8251748251748252\n"
          ],
          "name": "stdout"
        }
      ]
    },
    {
      "cell_type": "markdown",
      "metadata": {
        "id": "a4ZQxOZRSEEA"
      },
      "source": [
        "###  Regression"
      ]
    },
    {
      "cell_type": "code",
      "metadata": {
        "id": "-F1SeZ4jSEEA",
        "colab": {
          "base_uri": "https://localhost:8080/"
        },
        "outputId": "a49448aa-88f8-4f01-aae5-0953d3d7a7bf"
      },
      "source": [
        "from sklearn.datasets import load_boston\n",
        "boston = load_boston()\n",
        "print(\"Data shape:\", boston.data.shape)"
      ],
      "execution_count": null,
      "outputs": [
        {
          "output_type": "stream",
          "text": [
            "Data shape: (506, 13)\n"
          ],
          "name": "stdout"
        }
      ]
    },
    {
      "cell_type": "code",
      "metadata": {
        "id": "lC3VFnr2SEEB",
        "colab": {
          "base_uri": "https://localhost:8080/"
        },
        "outputId": "2881b30b-82f6-47d7-903f-27227af662a5"
      },
      "source": [
        "boston.keys()"
      ],
      "execution_count": null,
      "outputs": [
        {
          "output_type": "execute_result",
          "data": {
            "text/plain": [
              "dict_keys(['data', 'target', 'feature_names', 'DESCR', 'filename'])"
            ]
          },
          "metadata": {
            "tags": []
          },
          "execution_count": 17
        }
      ]
    },
    {
      "cell_type": "code",
      "metadata": {
        "id": "36rlhilgSEEB",
        "colab": {
          "base_uri": "https://localhost:8080/"
        },
        "outputId": "f40c011e-8e06-4e62-f3f2-1b0e82c84ee1"
      },
      "source": [
        "print(boston.DESCR[:1400])"
      ],
      "execution_count": null,
      "outputs": [
        {
          "output_type": "stream",
          "text": [
            ".. _boston_dataset:\n",
            "\n",
            "Boston house prices dataset\n",
            "---------------------------\n",
            "\n",
            "**Data Set Characteristics:**  \n",
            "\n",
            "    :Number of Instances: 506 \n",
            "\n",
            "    :Number of Attributes: 13 numeric/categorical predictive. Median Value (attribute 14) is usually the target.\n",
            "\n",
            "    :Attribute Information (in order):\n",
            "        - CRIM     per capita crime rate by town\n",
            "        - ZN       proportion of residential land zoned for lots over 25,000 sq.ft.\n",
            "        - INDUS    proportion of non-retail business acres per town\n",
            "        - CHAS     Charles River dummy variable (= 1 if tract bounds river; 0 otherwise)\n",
            "        - NOX      nitric oxides concentration (parts per 10 million)\n",
            "        - RM       average number of rooms per dwelling\n",
            "        - AGE      proportion of owner-occupied units built prior to 1940\n",
            "        - DIS      weighted distances to five Boston employment centres\n",
            "        - RAD      index of accessibility to radial highways\n",
            "        - TAX      full-value property-tax rate per $10,000\n",
            "        - PTRATIO  pupil-teacher ratio by town\n",
            "        - B        1000(Bk - 0.63)^2 where Bk is the proportion of blacks by town\n",
            "        - LSTAT    % lower status of the population\n",
            "        - MEDV     Median value of owner-occupied homes in $1000's\n",
            "\n",
            "    :Missing Attribute Values: None\n",
            "\n",
            "    :Creator: Harrison, D. and Rubinfeld, D.L.\n",
            "\n",
            "This is a copy of UCI ML housing dataset.\n",
            "https://archive.ics.uci.edu/ml/machine-learni\n"
          ],
          "name": "stdout"
        }
      ]
    },
    {
      "cell_type": "markdown",
      "metadata": {
        "id": "sThWWXAOSEEB"
      },
      "source": [
        "### Question 8\n",
        "Build a LinearRegression model using the Boston dataset. "
      ]
    },
    {
      "cell_type": "code",
      "metadata": {
        "id": "kns2xgwOSEEC"
      },
      "source": [
        "from sklearn.linear_model import LinearRegression\n",
        "\n",
        "X_train, X_test, y_train, y_test = train_test_split(boston.data, boston.target, random_state=0)\n",
        "\n",
        "linreg = LinearRegression().fit(X_train, y_train)\n",
        "    \n"
      ],
      "execution_count": null,
      "outputs": []
    },
    {
      "cell_type": "markdown",
      "metadata": {
        "id": "VCtDfwQFSEEC"
      },
      "source": [
        "### Question 9\n",
        "Which features have the highest coefficients in the above model? Which features have the lowest coefficients? Does this make intuitive sense, in terms of what you think would most influence house prices? Explain."
      ]
    },
    {
      "cell_type": "code",
      "metadata": {
        "id": "F3j9rECdSEEC",
        "colab": {
          "base_uri": "https://localhost:8080/"
        },
        "outputId": "a7d43e20-a931-49cc-9768-b942cdb417ff"
      },
      "source": [
        "sorted_coefs = sorted (list(zip(list(boston.feature_names), linreg.coef_)),\n",
        "                key = lambda e: e[1], reverse=True)\n",
        "\n",
        "print('Features with the highest coefficient is: {} with a value of: {:.3f}'.format(sorted_coefs[0][0], sorted_coefs[0][1]))\n",
        "print('Features with the lowest coefficient is: {} with a value of: {:.3f}'.format(sorted_coefs[-1][0], sorted_coefs[-1][1]))"
      ],
      "execution_count": null,
      "outputs": [
        {
          "output_type": "stream",
          "text": [
            "Features with the highest coefficient is: RM with a value of: 3.769\n",
            "Features with the lowest coefficient is: NOX with a value of: -15.589\n"
          ],
          "name": "stdout"
        }
      ]
    },
    {
      "cell_type": "markdown",
      "metadata": {
        "id": "vPv6XYI8SEED"
      },
      "source": [
        "### Question 10\n",
        "Build Lasso Regression models for the Boston dataset. Try at least 10 different values for the alpha parameter (you may also have to change max_iter). What is the best model? For this model, give the alpha value, and the training and test accuracy. "
      ]
    },
    {
      "cell_type": "code",
      "metadata": {
        "id": "OjLKN9pMSEED",
        "colab": {
          "base_uri": "https://localhost:8080/"
        },
        "outputId": "f143fc60-e092-48e4-f471-6b9f4cf74a6f"
      },
      "source": [
        "for alpha in [0, 0.1,0.5, 1, 2, 4, 6, 5, 10, 20, 30, 50]:\n",
        "    linlasso = Lasso(alpha, max_iter = 10000).fit(X_train, y_train)\n",
        "    r2_train = linlasso.score(X_train, y_train)\n",
        "    r2_test = linlasso.score(X_test, y_test)\n",
        "    \n",
        "    print('Alpha = {:.2f}\\nFeatures kept: {}, r-squared training: {:.2f}, \\\n",
        "r-squared test: {:.2f}\\n'\n",
        "         .format(alpha, np.sum(linlasso.coef_ != 0), r2_train, r2_test))\n"
      ],
      "execution_count": null,
      "outputs": [
        {
          "output_type": "stream",
          "text": [
            "Alpha = 0.00\n",
            "Features kept: 13, r-squared training: 0.77, r-squared test: 0.64\n",
            "\n",
            "Alpha = 0.10\n",
            "Features kept: 12, r-squared training: 0.76, r-squared test: 0.61\n",
            "\n",
            "Alpha = 0.50\n",
            "Features kept: 11, r-squared training: 0.75, r-squared test: 0.59\n",
            "\n",
            "Alpha = 1.00\n",
            "Features kept: 11, r-squared training: 0.72, r-squared test: 0.55\n",
            "\n",
            "Alpha = 2.00\n",
            "Features kept: 9, r-squared training: 0.66, r-squared test: 0.49\n",
            "\n",
            "Alpha = 4.00\n",
            "Features kept: 6, r-squared training: 0.61, r-squared test: 0.46\n",
            "\n",
            "Alpha = 6.00\n",
            "Features kept: 5, r-squared training: 0.59, r-squared test: 0.44\n",
            "\n",
            "Alpha = 5.00\n",
            "Features kept: 5, r-squared training: 0.60, r-squared test: 0.44\n",
            "\n",
            "Alpha = 10.00\n",
            "Features kept: 4, r-squared training: 0.56, r-squared test: 0.40\n",
            "\n",
            "Alpha = 20.00\n",
            "Features kept: 4, r-squared training: 0.46, r-squared test: 0.30\n",
            "\n",
            "Alpha = 30.00\n",
            "Features kept: 4, r-squared training: 0.32, r-squared test: 0.14\n",
            "\n",
            "Alpha = 50.00\n",
            "Features kept: 3, r-squared training: 0.28, r-squared test: 0.12\n",
            "\n"
          ],
          "name": "stdout"
        }
      ]
    },
    {
      "cell_type": "code",
      "metadata": {
        "id": "k-MbFwjhSEEE"
      },
      "source": [
        ""
      ],
      "execution_count": null,
      "outputs": []
    },
    {
      "cell_type": "code",
      "metadata": {
        "id": "F2oOLvJtSEEE"
      },
      "source": [
        ""
      ],
      "execution_count": null,
      "outputs": []
    }
  ]
}